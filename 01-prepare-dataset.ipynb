{
 "cells": [
  {
   "cell_type": "code",
   "execution_count": null,
   "id": "3b06c26e-a3aa-4800-a481-4bfdf06ccc16",
   "metadata": {},
   "outputs": [],
   "source": [
    "!pip install kaggle"
   ]
  },
  {
   "cell_type": "code",
   "execution_count": 6,
   "id": "f714aeff-24dc-4efc-867c-dcbd50c9523e",
   "metadata": {},
   "outputs": [],
   "source": [
    "!kaggle competitions download -c dogs-vs-cats"
   ]
  },
  {
   "cell_type": "code",
   "execution_count": 3,
   "id": "db30b8e7-a177-491b-9d96-8f40ec8ef5b0",
   "metadata": {},
   "outputs": [],
   "source": [
    "%%sh\n",
    "mkdir dogs-vs-cats-dataset\n",
    "unzip -q -d dogs-vs-cats-dataset dogs-vs-cats.zip\n",
    "unzip -q -d dogs-vs-cats-dataset dogs-vs-cats-dataset/test1.zip\n",
    "unzip -q -d dogs-vs-cats-dataset dogs-vs-cats-dataset/train.zip"
   ]
  },
  {
   "cell_type": "code",
   "execution_count": 4,
   "id": "a29df477-874f-439c-967c-0cde68e464ae",
   "metadata": {},
   "outputs": [],
   "source": [
    "%%sh\n",
    "mkdir training-dataset\n",
    "mkdir training-dataset/train\n",
    "mkdir training-dataset/train/dog\n",
    "mkdir training-dataset/train/cat\n",
    "mkdir training-dataset/test\n",
    "mkdir training-dataset/test/dog\n",
    "mkdir training-dataset/test/cat\n",
    "mkdir training-dataset/val\n",
    "mkdir training-dataset/val/dog\n",
    "mkdir training-dataset/val/cat\n",
    "\n",
    "ls dogs-vs-cats-dataset/train/dog* | shuf -n 2250 | xargs -i mv {} training-dataset/val/dog\n",
    "ls dogs-vs-cats-dataset/train/dog* | shuf -n 2250 | xargs -i mv {} training-dataset/test/dog\n",
    "ls dogs-vs-cats-dataset/train/dog* | shuf -n 8000 | xargs -i mv {} training-dataset/train/dog\n",
    "ls dogs-vs-cats-dataset/train/cat* | shuf -n 2250 | xargs -i mv {} training-dataset/val/cat\n",
    "ls dogs-vs-cats-dataset/train/cat* | shuf -n 2250 | xargs -i mv {} training-dataset/test/cat\n",
    "ls dogs-vs-cats-dataset/train/cat* | shuf -n 8000 | xargs -i mv {} training-dataset/train/cat"
   ]
  },
  {
   "cell_type": "code",
   "execution_count": null,
   "id": "23733684-9a48-44bc-9bb4-884ae2734281",
   "metadata": {},
   "outputs": [],
   "source": []
  }
 ],
 "metadata": {
  "kernelspec": {
   "display_name": "Python 3.11",
   "language": "python",
   "name": "python3"
  },
  "language_info": {
   "codemirror_mode": {
    "name": "ipython",
    "version": 3
   },
   "file_extension": ".py",
   "mimetype": "text/x-python",
   "name": "python",
   "nbconvert_exporter": "python",
   "pygments_lexer": "ipython3",
   "version": "3.11.9"
  }
 },
 "nbformat": 4,
 "nbformat_minor": 5
}
