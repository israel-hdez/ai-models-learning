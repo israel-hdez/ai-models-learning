{
 "cells": [
  {
   "cell_type": "code",
   "execution_count": 1,
   "id": "d27e6af7-b4e5-43a1-bc60-df1366634de3",
   "metadata": {},
   "outputs": [
    {
     "name": "stdout",
     "output_type": "stream",
     "text": [
      "--2025-04-03 19:07:44--  https://s3-us-west-1.amazonaws.com/udacity-aind/dog-project/dogImages.zip\n",
      "Resolving s3-us-west-1.amazonaws.com (s3-us-west-1.amazonaws.com)... 52.219.216.40, 52.219.120.200, 16.15.2.19, ...\n",
      "Connecting to s3-us-west-1.amazonaws.com (s3-us-west-1.amazonaws.com)|52.219.216.40|:443... connected.\n",
      "HTTP request sent, awaiting response... 200 OK\n",
      "Length: 1132023110 (1.1G) [application/zip]\n",
      "Saving to: ‘dogImages.zip’\n",
      "\n",
      "dogImages.zip       100%[===================>]   1.05G  31.4MB/s    in 35s     \n",
      "\n",
      "2025-04-03 19:08:20 (30.9 MB/s) - ‘dogImages.zip’ saved [1132023110/1132023110]\n",
      "\n"
     ]
    }
   ],
   "source": [
    "!wget https://s3-us-west-1.amazonaws.com/udacity-aind/dog-project/dogImages.zip"
   ]
  },
  {
   "cell_type": "code",
   "execution_count": 2,
   "id": "aebc56f7-8a38-446b-98bd-e87ef42ade50",
   "metadata": {},
   "outputs": [],
   "source": [
    "%%sh\n",
    "unzip -q dogImages.zip\n",
    "mv dogImages dog-breeds-dataset"
   ]
  },
  {
   "cell_type": "code",
   "execution_count": null,
   "id": "844d5fb3-61ab-4953-a71c-32d7140bbd5c",
   "metadata": {},
   "outputs": [],
   "source": []
  }
 ],
 "metadata": {
  "kernelspec": {
   "display_name": "Python 3.11",
   "language": "python",
   "name": "python3"
  },
  "language_info": {
   "codemirror_mode": {
    "name": "ipython",
    "version": 3
   },
   "file_extension": ".py",
   "mimetype": "text/x-python",
   "name": "python",
   "nbconvert_exporter": "python",
   "pygments_lexer": "ipython3",
   "version": "3.11.9"
  }
 },
 "nbformat": 4,
 "nbformat_minor": 5
}
